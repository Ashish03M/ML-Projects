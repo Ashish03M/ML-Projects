{
 "cells": [
  {
   "cell_type": "markdown",
   "metadata": {},
   "source": [
    "<div class=\"alert alert-block alert-info\" style=\"font-size: 25px; text-align: center;\">\n",
    "  <b>Tweet Sentiment Analysis</b>\n",
    "</div>\n"
   ]
  },
  {
   "cell_type": "markdown",
   "metadata": {},
   "source": [
    "<div class=\"alert alert-block alert-warning\" style=\"font-size: 18px;\">\n",
    "<b>Objective:</b> To Analyse the sentiments of tweets ,whether they are positive,negative or neutral. \n",
    "</div>"
   ]
  },
  {
   "cell_type": "code",
   "execution_count": 1,
   "metadata": {},
   "outputs": [],
   "source": [
    "import pandas as pd\n",
    "import seaborn as sns\n",
    "import matplotlib.pyplot as plt\n",
    "\n",
    "\n",
    "\n",
    "#Text preprocessing libraries\n",
    "import re\n",
    "import string\n",
    "from nltk.corpus import stopwords\n",
    "from nltk.stem import PorterStemmer, WordNetLemmatizer\n",
    "from nltk.tokenize import word_tokenize\n",
    "from textblob import TextBlob\n",
    "from sklearn.feature_extraction.text import CountVectorizer,TfidfVectorizer\n",
    "from sklearn.preprocessing import LabelEncoder\n",
    "\n",
    "#ML Modelling libraries\n",
    "from sklearn.model_selection import train_test_split\n",
    "from sklearn.naive_bayes import MultinomialNB\n",
    "from sklearn.linear_model import LogisticRegression\n",
    "from sklearn.ensemble import RandomForestClassifier\n",
    "from sklearn.svm import SVC\n",
    "import xgboost as xgb\n",
    "\n",
    "#Metrics libraries\n",
    "from sklearn.metrics import accuracy_score, classification_report,confusion_matrix\n",
    "\n",
    "import warnings\n",
    "warnings.filterwarnings('ignore')\n"
   ]
  },
  {
   "cell_type": "markdown",
   "metadata": {},
   "source": [
    "<div class=\"alert alert-block alert-info\" style=\"font-size: 20px; text-align: center;\">\n",
    "  <b>Exploratory Data Analysis</b>\n",
    "</div>"
   ]
  },
  {
   "cell_type": "code",
   "execution_count": 2,
   "metadata": {},
   "outputs": [],
   "source": [
    "#Importing the data \n",
    "tweets=pd.read_csv('Twitter_Omicron_data_1_1_1.csv')"
   ]
  },
  {
   "cell_type": "code",
   "execution_count": 3,
   "metadata": {},
   "outputs": [
    {
     "data": {
      "text/html": [
       "<div>\n",
       "<style scoped>\n",
       "    .dataframe tbody tr th:only-of-type {\n",
       "        vertical-align: middle;\n",
       "    }\n",
       "\n",
       "    .dataframe tbody tr th {\n",
       "        vertical-align: top;\n",
       "    }\n",
       "\n",
       "    .dataframe thead th {\n",
       "        text-align: right;\n",
       "    }\n",
       "</style>\n",
       "<table border=\"1\" class=\"dataframe\">\n",
       "  <thead>\n",
       "    <tr style=\"text-align: right;\">\n",
       "      <th></th>\n",
       "      <th>tweets</th>\n",
       "      <th>likes</th>\n",
       "      <th>time</th>\n",
       "      <th>retweet_count</th>\n",
       "    </tr>\n",
       "  </thead>\n",
       "  <tbody>\n",
       "    <tr>\n",
       "      <th>0</th>\n",
       "      <td>6 big questions about new Omicron-targeting bo...</td>\n",
       "      <td>0</td>\n",
       "      <td>2023-03-09 18:24:06</td>\n",
       "      <td>0</td>\n",
       "    </tr>\n",
       "    <tr>\n",
       "      <th>1</th>\n",
       "      <td>I'm confused https://t.co/NyfgdYUYAT</td>\n",
       "      <td>0</td>\n",
       "      <td>2023-03-09 18:23:43</td>\n",
       "      <td>0</td>\n",
       "    </tr>\n",
       "    <tr>\n",
       "      <th>2</th>\n",
       "      <td>Long COVID less likely after Omicron than afte...</td>\n",
       "      <td>0</td>\n",
       "      <td>2023-03-09 18:22:43</td>\n",
       "      <td>0</td>\n",
       "    </tr>\n",
       "    <tr>\n",
       "      <th>3</th>\n",
       "      <td>The finding don't tally with the high numbers ...</td>\n",
       "      <td>0</td>\n",
       "      <td>2023-03-09 18:21:45</td>\n",
       "      <td>0</td>\n",
       "    </tr>\n",
       "    <tr>\n",
       "      <th>4</th>\n",
       "      <td>A conference abstract from the European Congre...</td>\n",
       "      <td>1</td>\n",
       "      <td>2023-03-09 18:21:45</td>\n",
       "      <td>1</td>\n",
       "    </tr>\n",
       "  </tbody>\n",
       "</table>\n",
       "</div>"
      ],
      "text/plain": [
       "                                              tweets  likes  \\\n",
       "0  6 big questions about new Omicron-targeting bo...      0   \n",
       "1               I'm confused https://t.co/NyfgdYUYAT      0   \n",
       "2  Long COVID less likely after Omicron than afte...      0   \n",
       "3  The finding don't tally with the high numbers ...      0   \n",
       "4  A conference abstract from the European Congre...      1   \n",
       "\n",
       "                  time  retweet_count  \n",
       "0  2023-03-09 18:24:06              0  \n",
       "1  2023-03-09 18:23:43              0  \n",
       "2  2023-03-09 18:22:43              0  \n",
       "3  2023-03-09 18:21:45              0  \n",
       "4  2023-03-09 18:21:45              1  "
      ]
     },
     "execution_count": 3,
     "metadata": {},
     "output_type": "execute_result"
    }
   ],
   "source": [
    "tweets.head()"
   ]
  },
  {
   "cell_type": "code",
   "execution_count": 4,
   "metadata": {},
   "outputs": [
    {
     "data": {
      "text/plain": [
       "(6998, 4)"
      ]
     },
     "execution_count": 4,
     "metadata": {},
     "output_type": "execute_result"
    }
   ],
   "source": [
    "tweets.shape"
   ]
  },
  {
   "cell_type": "code",
   "execution_count": 5,
   "metadata": {},
   "outputs": [
    {
     "data": {
      "text/plain": [
       "tweets           0\n",
       "likes            0\n",
       "time             0\n",
       "retweet_count    0\n",
       "dtype: int64"
      ]
     },
     "execution_count": 5,
     "metadata": {},
     "output_type": "execute_result"
    }
   ],
   "source": [
    "tweets.isnull().sum()"
   ]
  },
  {
   "cell_type": "code",
   "execution_count": 6,
   "metadata": {},
   "outputs": [
    {
     "data": {
      "text/plain": [
       "0"
      ]
     },
     "execution_count": 6,
     "metadata": {},
     "output_type": "execute_result"
    }
   ],
   "source": [
    "tweets.duplicated().sum()"
   ]
  },
  {
   "cell_type": "markdown",
   "metadata": {},
   "source": [
    "<div class=\"alert alert-block alert-success\">\n",
    "    <ul>\n",
    "        <li>The dataset contains 4 features with 6998 Records , and all seems independent ,so during feature engineering we have to create the target/dependent feature.</li>\n",
    "        <li>Even though there are 4 features, our primary focus is on sentiment of the Tweets,so 'tweets' is important for us.  </li>\n",
    "        <li>No null values as far now.</li>\n",
    "    </ul>\n",
    "</div>"
   ]
  },
  {
   "cell_type": "markdown",
   "metadata": {},
   "source": [
    "<div class=\"alert alert-block alert-info\" style=\"font-size: 20px; text-align: center;\">\n",
    "  <b>Text Preprocessing</b>\n",
    "</div>"
   ]
  },
  {
   "cell_type": "markdown",
   "metadata": {},
   "source": [
    "- As our tweets are in raw format so we have to do some basic text cleaning and preprocessing to make it machine interpretable.\n",
    "- Some of the basic preprocessing involves , removal of url,html tags,punctuations.\n",
    "- Then tokenization and stemming."
   ]
  },
  {
   "cell_type": "code",
   "execution_count": 7,
   "metadata": {},
   "outputs": [],
   "source": [
    "#Creating a copy of original dataset\n",
    "df=tweets.copy()"
   ]
  },
  {
   "cell_type": "code",
   "execution_count": 8,
   "metadata": {},
   "outputs": [],
   "source": [
    "#Converting all tweets to lowercase \n",
    "df['tweets'] = df['tweets'].str.lower()"
   ]
  },
  {
   "cell_type": "code",
   "execution_count": 9,
   "metadata": {},
   "outputs": [],
   "source": [
    "#Function to remove html tags\n",
    "def remove_html_tags(text):\n",
    "    pattern = re.compile('<.*?>')\n",
    "    return pattern.sub(r'', text)"
   ]
  },
  {
   "cell_type": "code",
   "execution_count": 10,
   "metadata": {},
   "outputs": [],
   "source": [
    "df['tweets'] = df['tweets'].apply(remove_html_tags)"
   ]
  },
  {
   "cell_type": "code",
   "execution_count": 11,
   "metadata": {
    "execution": {
     "iopub.execute_input": "2021-12-08T10:49:34.054005Z",
     "iopub.status.busy": "2021-12-08T10:49:34.053704Z",
     "iopub.status.idle": "2021-12-08T10:49:34.058386Z",
     "shell.execute_reply": "2021-12-08T10:49:34.057762Z",
     "shell.execute_reply.started": "2021-12-08T10:49:34.053975Z"
    }
   },
   "outputs": [],
   "source": [
    "#Function to remove URL\n",
    "def remove_url(text):\n",
    "    pattern = re.compile(r'https?://\\S+|www\\.\\S+')\n",
    "    return pattern.sub(r'', text)"
   ]
  },
  {
   "cell_type": "code",
   "execution_count": 12,
   "metadata": {},
   "outputs": [],
   "source": [
    "df['tweets'] = df['tweets'].apply(remove_url)"
   ]
  },
  {
   "cell_type": "code",
   "execution_count": 13,
   "metadata": {
    "execution": {
     "iopub.execute_input": "2021-12-08T11:27:27.985243Z",
     "iopub.status.busy": "2021-12-08T11:27:27.984584Z",
     "iopub.status.idle": "2021-12-08T11:27:27.990753Z",
     "shell.execute_reply": "2021-12-08T11:27:27.989969Z",
     "shell.execute_reply.started": "2021-12-08T11:27:27.985189Z"
    }
   },
   "outputs": [],
   "source": [
    "#Removal of punctuations\n",
    "def remove_punctuation(text):\n",
    "    translator = str.maketrans('', '', string.punctuation)\n",
    "    return text.translate(translator)"
   ]
  },
  {
   "cell_type": "code",
   "execution_count": 14,
   "metadata": {},
   "outputs": [],
   "source": [
    "df['tweets'] = df['tweets'].apply(remove_punctuation)"
   ]
  },
  {
   "cell_type": "code",
   "execution_count": 15,
   "metadata": {},
   "outputs": [],
   "source": [
    "#Tokenizing the tweets before performing stemming\n",
    "df['tweets'] = df['tweets'].apply(lambda tweet: word_tokenize(tweet))\n",
    "\n",
    "# Function for lemmatization and stemming\n",
    "def lemmatize_and_stem(tokens):\n",
    "    lemmatizer = WordNetLemmatizer()\n",
    "    stemmer = PorterStemmer()\n",
    "    return [stemmer.stem(lemmatizer.lemmatize(token, pos='v')) for token in tokens]\n",
    "\n",
    "# Applying lemmatization and stemming to the 'tweets' column\n",
    "df['processed_tweets'] = df['tweets'].apply(lemmatize_and_stem)\n",
    "\n",
    "# Removing stopwords and join back into a string\n",
    "stop_words = set(stopwords.words('english'))\n",
    "df['processed_tweets'] = df['processed_tweets'].apply(lambda tokens: ' '.join([token for token in tokens if token not in stop_words]))\n"
   ]
  },
  {
   "cell_type": "code",
   "execution_count": 16,
   "metadata": {},
   "outputs": [
    {
     "data": {
      "text/html": [
       "<div>\n",
       "<style scoped>\n",
       "    .dataframe tbody tr th:only-of-type {\n",
       "        vertical-align: middle;\n",
       "    }\n",
       "\n",
       "    .dataframe tbody tr th {\n",
       "        vertical-align: top;\n",
       "    }\n",
       "\n",
       "    .dataframe thead th {\n",
       "        text-align: right;\n",
       "    }\n",
       "</style>\n",
       "<table border=\"1\" class=\"dataframe\">\n",
       "  <thead>\n",
       "    <tr style=\"text-align: right;\">\n",
       "      <th></th>\n",
       "      <th>tweets</th>\n",
       "      <th>likes</th>\n",
       "      <th>time</th>\n",
       "      <th>retweet_count</th>\n",
       "      <th>processed_tweets</th>\n",
       "    </tr>\n",
       "  </thead>\n",
       "  <tbody>\n",
       "    <tr>\n",
       "      <th>0</th>\n",
       "      <td>[6, big, questions, about, new, omicrontargeti...</td>\n",
       "      <td>0</td>\n",
       "      <td>2023-03-09 18:24:06</td>\n",
       "      <td>0</td>\n",
       "      <td>6 big question new omicrontarget booster boost...</td>\n",
       "    </tr>\n",
       "    <tr>\n",
       "      <th>1</th>\n",
       "      <td>[im, confused]</td>\n",
       "      <td>0</td>\n",
       "      <td>2023-03-09 18:23:43</td>\n",
       "      <td>0</td>\n",
       "      <td>im confus</td>\n",
       "    </tr>\n",
       "    <tr>\n",
       "      <th>2</th>\n",
       "      <td>[long, covid, less, likely, after, omicron, th...</td>\n",
       "      <td>0</td>\n",
       "      <td>2023-03-09 18:22:43</td>\n",
       "      <td>0</td>\n",
       "      <td>long covid less like omicron origin viru swiss...</td>\n",
       "    </tr>\n",
       "    <tr>\n",
       "      <th>3</th>\n",
       "      <td>[the, finding, dont, tally, with, the, high, n...</td>\n",
       "      <td>0</td>\n",
       "      <td>2023-03-09 18:21:45</td>\n",
       "      <td>0</td>\n",
       "      <td>find dont talli high number see bulletin resea...</td>\n",
       "    </tr>\n",
       "    <tr>\n",
       "      <th>4</th>\n",
       "      <td>[a, conference, abstract, from, the, european,...</td>\n",
       "      <td>1</td>\n",
       "      <td>2023-03-09 18:21:45</td>\n",
       "      <td>1</td>\n",
       "      <td>confer abstract european congress clinic micro...</td>\n",
       "    </tr>\n",
       "    <tr>\n",
       "      <th>...</th>\n",
       "      <td>...</td>\n",
       "      <td>...</td>\n",
       "      <td>...</td>\n",
       "      <td>...</td>\n",
       "      <td>...</td>\n",
       "    </tr>\n",
       "    <tr>\n",
       "      <th>6993</th>\n",
       "      <td>[cyclconscience, ballouxfrancois, your, argume...</td>\n",
       "      <td>1</td>\n",
       "      <td>2023-02-27 18:56:31</td>\n",
       "      <td>0</td>\n",
       "      <td>cyclconsci ballouxfrancoi argument flaw mask w...</td>\n",
       "    </tr>\n",
       "    <tr>\n",
       "      <th>6994</th>\n",
       "      <td>[bretweinstein, i, dont, think, it, escaped, t...</td>\n",
       "      <td>0</td>\n",
       "      <td>2023-02-27 18:54:55</td>\n",
       "      <td>0</td>\n",
       "      <td>bretweinstein dont think escap open cell door ...</td>\n",
       "    </tr>\n",
       "    <tr>\n",
       "      <th>6995</th>\n",
       "      <td>[50kgold, do, you, have, to, show, your, face,...</td>\n",
       "      <td>0</td>\n",
       "      <td>2023-02-27 18:53:55</td>\n",
       "      <td>0</td>\n",
       "      <td>50kgold show face id run errand gettin cut chi...</td>\n",
       "    </tr>\n",
       "    <tr>\n",
       "      <th>6996</th>\n",
       "      <td>[noxcato, andrewtanyongyi, tahsci, hsom113, mi...</td>\n",
       "      <td>1</td>\n",
       "      <td>2023-02-27 18:49:59</td>\n",
       "      <td>0</td>\n",
       "      <td>noxcato andrewtanyongyi tahsci hsom113 michael...</td>\n",
       "    </tr>\n",
       "    <tr>\n",
       "      <th>6997</th>\n",
       "      <td>[in, light, of, the, fact, that, omicron, is, ...</td>\n",
       "      <td>0</td>\n",
       "      <td>2023-02-27 18:49:09</td>\n",
       "      <td>0</td>\n",
       "      <td>light fact omicron unrel delta time revisit th...</td>\n",
       "    </tr>\n",
       "  </tbody>\n",
       "</table>\n",
       "<p>6998 rows × 5 columns</p>\n",
       "</div>"
      ],
      "text/plain": [
       "                                                 tweets  likes  \\\n",
       "0     [6, big, questions, about, new, omicrontargeti...      0   \n",
       "1                                        [im, confused]      0   \n",
       "2     [long, covid, less, likely, after, omicron, th...      0   \n",
       "3     [the, finding, dont, tally, with, the, high, n...      0   \n",
       "4     [a, conference, abstract, from, the, european,...      1   \n",
       "...                                                 ...    ...   \n",
       "6993  [cyclconscience, ballouxfrancois, your, argume...      1   \n",
       "6994  [bretweinstein, i, dont, think, it, escaped, t...      0   \n",
       "6995  [50kgold, do, you, have, to, show, your, face,...      0   \n",
       "6996  [noxcato, andrewtanyongyi, tahsci, hsom113, mi...      1   \n",
       "6997  [in, light, of, the, fact, that, omicron, is, ...      0   \n",
       "\n",
       "                     time  retweet_count  \\\n",
       "0     2023-03-09 18:24:06              0   \n",
       "1     2023-03-09 18:23:43              0   \n",
       "2     2023-03-09 18:22:43              0   \n",
       "3     2023-03-09 18:21:45              0   \n",
       "4     2023-03-09 18:21:45              1   \n",
       "...                   ...            ...   \n",
       "6993  2023-02-27 18:56:31              0   \n",
       "6994  2023-02-27 18:54:55              0   \n",
       "6995  2023-02-27 18:53:55              0   \n",
       "6996  2023-02-27 18:49:59              0   \n",
       "6997  2023-02-27 18:49:09              0   \n",
       "\n",
       "                                       processed_tweets  \n",
       "0     6 big question new omicrontarget booster boost...  \n",
       "1                                             im confus  \n",
       "2     long covid less like omicron origin viru swiss...  \n",
       "3     find dont talli high number see bulletin resea...  \n",
       "4     confer abstract european congress clinic micro...  \n",
       "...                                                 ...  \n",
       "6993  cyclconsci ballouxfrancoi argument flaw mask w...  \n",
       "6994  bretweinstein dont think escap open cell door ...  \n",
       "6995  50kgold show face id run errand gettin cut chi...  \n",
       "6996  noxcato andrewtanyongyi tahsci hsom113 michael...  \n",
       "6997  light fact omicron unrel delta time revisit th...  \n",
       "\n",
       "[6998 rows x 5 columns]"
      ]
     },
     "execution_count": 16,
     "metadata": {},
     "output_type": "execute_result"
    }
   ],
   "source": [
    "#final Cleaned tweets \n",
    "df"
   ]
  },
  {
   "cell_type": "markdown",
   "metadata": {
    "execution": {
     "iopub.execute_input": "2021-12-09T07:27:23.992653Z",
     "iopub.status.busy": "2021-12-09T07:27:23.991771Z",
     "iopub.status.idle": "2021-12-09T07:27:24.003513Z",
     "shell.execute_reply": "2021-12-09T07:27:24.002522Z",
     "shell.execute_reply.started": "2021-12-09T07:27:23.992613Z"
    }
   },
   "source": [
    "<div class=\"alert alert-block alert-info\" style=\"font-size: 20px; text-align: center;\">\n",
    "  <b>Feature Engineering</b>\n",
    "</div>"
   ]
  },
  {
   "cell_type": "markdown",
   "metadata": {},
   "source": [
    "- Since we don't have the sentiment feature ,we'll try to calculate it using sentiment scores."
   ]
  },
  {
   "cell_type": "code",
   "execution_count": 17,
   "metadata": {},
   "outputs": [],
   "source": [
    "#Calculating Sentiment Scores\n",
    "df['sentiment'] = df['processed_tweets'].apply(lambda text: TextBlob(text).sentiment.polarity)\n",
    "\n",
    "# Categorize sentiment into positive, neutral, and negative\n",
    "df['sentiment_category'] = df['sentiment'].apply(lambda score: 'positive' if score > 0 else 'negative' if score < 0 else 'neutral')\n"
   ]
  },
  {
   "cell_type": "code",
   "execution_count": 18,
   "metadata": {},
   "outputs": [
    {
     "data": {
      "text/html": [
       "<div>\n",
       "<style scoped>\n",
       "    .dataframe tbody tr th:only-of-type {\n",
       "        vertical-align: middle;\n",
       "    }\n",
       "\n",
       "    .dataframe tbody tr th {\n",
       "        vertical-align: top;\n",
       "    }\n",
       "\n",
       "    .dataframe thead th {\n",
       "        text-align: right;\n",
       "    }\n",
       "</style>\n",
       "<table border=\"1\" class=\"dataframe\">\n",
       "  <thead>\n",
       "    <tr style=\"text-align: right;\">\n",
       "      <th></th>\n",
       "      <th>tweets</th>\n",
       "      <th>likes</th>\n",
       "      <th>time</th>\n",
       "      <th>retweet_count</th>\n",
       "      <th>processed_tweets</th>\n",
       "      <th>sentiment</th>\n",
       "      <th>sentiment_category</th>\n",
       "    </tr>\n",
       "  </thead>\n",
       "  <tbody>\n",
       "    <tr>\n",
       "      <th>0</th>\n",
       "      <td>[6, big, questions, about, new, omicrontargeti...</td>\n",
       "      <td>0</td>\n",
       "      <td>2023-03-09 18:24:06</td>\n",
       "      <td>0</td>\n",
       "      <td>6 big question new omicrontarget booster boost...</td>\n",
       "      <td>0.068182</td>\n",
       "      <td>positive</td>\n",
       "    </tr>\n",
       "    <tr>\n",
       "      <th>1</th>\n",
       "      <td>[im, confused]</td>\n",
       "      <td>0</td>\n",
       "      <td>2023-03-09 18:23:43</td>\n",
       "      <td>0</td>\n",
       "      <td>im confus</td>\n",
       "      <td>0.000000</td>\n",
       "      <td>neutral</td>\n",
       "    </tr>\n",
       "    <tr>\n",
       "      <th>2</th>\n",
       "      <td>[long, covid, less, likely, after, omicron, th...</td>\n",
       "      <td>0</td>\n",
       "      <td>2023-03-09 18:22:43</td>\n",
       "      <td>0</td>\n",
       "      <td>long covid less like omicron origin viru swiss...</td>\n",
       "      <td>-0.108333</td>\n",
       "      <td>negative</td>\n",
       "    </tr>\n",
       "    <tr>\n",
       "      <th>3</th>\n",
       "      <td>[the, finding, dont, tally, with, the, high, n...</td>\n",
       "      <td>0</td>\n",
       "      <td>2023-03-09 18:21:45</td>\n",
       "      <td>0</td>\n",
       "      <td>find dont talli high number see bulletin resea...</td>\n",
       "      <td>0.160000</td>\n",
       "      <td>positive</td>\n",
       "    </tr>\n",
       "    <tr>\n",
       "      <th>4</th>\n",
       "      <td>[a, conference, abstract, from, the, european,...</td>\n",
       "      <td>1</td>\n",
       "      <td>2023-03-09 18:21:45</td>\n",
       "      <td>1</td>\n",
       "      <td>confer abstract european congress clinic micro...</td>\n",
       "      <td>-0.083333</td>\n",
       "      <td>negative</td>\n",
       "    </tr>\n",
       "    <tr>\n",
       "      <th>...</th>\n",
       "      <td>...</td>\n",
       "      <td>...</td>\n",
       "      <td>...</td>\n",
       "      <td>...</td>\n",
       "      <td>...</td>\n",
       "      <td>...</td>\n",
       "      <td>...</td>\n",
       "    </tr>\n",
       "    <tr>\n",
       "      <th>6993</th>\n",
       "      <td>[cyclconscience, ballouxfrancois, your, argume...</td>\n",
       "      <td>1</td>\n",
       "      <td>2023-02-27 18:56:31</td>\n",
       "      <td>0</td>\n",
       "      <td>cyclconsci ballouxfrancoi argument flaw mask w...</td>\n",
       "      <td>0.000000</td>\n",
       "      <td>neutral</td>\n",
       "    </tr>\n",
       "    <tr>\n",
       "      <th>6994</th>\n",
       "      <td>[bretweinstein, i, dont, think, it, escaped, t...</td>\n",
       "      <td>0</td>\n",
       "      <td>2023-02-27 18:54:55</td>\n",
       "      <td>0</td>\n",
       "      <td>bretweinstein dont think escap open cell door ...</td>\n",
       "      <td>0.000000</td>\n",
       "      <td>neutral</td>\n",
       "    </tr>\n",
       "    <tr>\n",
       "      <th>6995</th>\n",
       "      <td>[50kgold, do, you, have, to, show, your, face,...</td>\n",
       "      <td>0</td>\n",
       "      <td>2023-02-27 18:53:55</td>\n",
       "      <td>0</td>\n",
       "      <td>50kgold show face id run errand gettin cut chi...</td>\n",
       "      <td>0.000000</td>\n",
       "      <td>neutral</td>\n",
       "    </tr>\n",
       "    <tr>\n",
       "      <th>6996</th>\n",
       "      <td>[noxcato, andrewtanyongyi, tahsci, hsom113, mi...</td>\n",
       "      <td>1</td>\n",
       "      <td>2023-02-27 18:49:59</td>\n",
       "      <td>0</td>\n",
       "      <td>noxcato andrewtanyongyi tahsci hsom113 michael...</td>\n",
       "      <td>-0.025000</td>\n",
       "      <td>negative</td>\n",
       "    </tr>\n",
       "    <tr>\n",
       "      <th>6997</th>\n",
       "      <td>[in, light, of, the, fact, that, omicron, is, ...</td>\n",
       "      <td>0</td>\n",
       "      <td>2023-02-27 18:49:09</td>\n",
       "      <td>0</td>\n",
       "      <td>light fact omicron unrel delta time revisit th...</td>\n",
       "      <td>0.400000</td>\n",
       "      <td>positive</td>\n",
       "    </tr>\n",
       "  </tbody>\n",
       "</table>\n",
       "<p>6998 rows × 7 columns</p>\n",
       "</div>"
      ],
      "text/plain": [
       "                                                 tweets  likes  \\\n",
       "0     [6, big, questions, about, new, omicrontargeti...      0   \n",
       "1                                        [im, confused]      0   \n",
       "2     [long, covid, less, likely, after, omicron, th...      0   \n",
       "3     [the, finding, dont, tally, with, the, high, n...      0   \n",
       "4     [a, conference, abstract, from, the, european,...      1   \n",
       "...                                                 ...    ...   \n",
       "6993  [cyclconscience, ballouxfrancois, your, argume...      1   \n",
       "6994  [bretweinstein, i, dont, think, it, escaped, t...      0   \n",
       "6995  [50kgold, do, you, have, to, show, your, face,...      0   \n",
       "6996  [noxcato, andrewtanyongyi, tahsci, hsom113, mi...      1   \n",
       "6997  [in, light, of, the, fact, that, omicron, is, ...      0   \n",
       "\n",
       "                     time  retweet_count  \\\n",
       "0     2023-03-09 18:24:06              0   \n",
       "1     2023-03-09 18:23:43              0   \n",
       "2     2023-03-09 18:22:43              0   \n",
       "3     2023-03-09 18:21:45              0   \n",
       "4     2023-03-09 18:21:45              1   \n",
       "...                   ...            ...   \n",
       "6993  2023-02-27 18:56:31              0   \n",
       "6994  2023-02-27 18:54:55              0   \n",
       "6995  2023-02-27 18:53:55              0   \n",
       "6996  2023-02-27 18:49:59              0   \n",
       "6997  2023-02-27 18:49:09              0   \n",
       "\n",
       "                                       processed_tweets  sentiment  \\\n",
       "0     6 big question new omicrontarget booster boost...   0.068182   \n",
       "1                                             im confus   0.000000   \n",
       "2     long covid less like omicron origin viru swiss...  -0.108333   \n",
       "3     find dont talli high number see bulletin resea...   0.160000   \n",
       "4     confer abstract european congress clinic micro...  -0.083333   \n",
       "...                                                 ...        ...   \n",
       "6993  cyclconsci ballouxfrancoi argument flaw mask w...   0.000000   \n",
       "6994  bretweinstein dont think escap open cell door ...   0.000000   \n",
       "6995  50kgold show face id run errand gettin cut chi...   0.000000   \n",
       "6996  noxcato andrewtanyongyi tahsci hsom113 michael...  -0.025000   \n",
       "6997  light fact omicron unrel delta time revisit th...   0.400000   \n",
       "\n",
       "     sentiment_category  \n",
       "0              positive  \n",
       "1               neutral  \n",
       "2              negative  \n",
       "3              positive  \n",
       "4              negative  \n",
       "...                 ...  \n",
       "6993            neutral  \n",
       "6994            neutral  \n",
       "6995            neutral  \n",
       "6996           negative  \n",
       "6997           positive  \n",
       "\n",
       "[6998 rows x 7 columns]"
      ]
     },
     "execution_count": 18,
     "metadata": {},
     "output_type": "execute_result"
    }
   ],
   "source": [
    "df"
   ]
  },
  {
   "cell_type": "code",
   "execution_count": 19,
   "metadata": {},
   "outputs": [
    {
     "name": "stdout",
     "output_type": "stream",
     "text": [
      "positive    2656\n",
      "neutral     2632\n",
      "negative    1710\n",
      "Name: sentiment_category, dtype: int64\n"
     ]
    }
   ],
   "source": [
    "#checking distribution of sentiments\n",
    "sentiment_distribution = df['sentiment_category'].value_counts()\n",
    "print(sentiment_distribution)"
   ]
  },
  {
   "cell_type": "markdown",
   "metadata": {},
   "source": [
    "<div class=\"alert alert-block alert-success\">\n",
    "    <ul>\n",
    "        <li>Now we have cleaned the tweets and calculated sentiments also, so we can now continue to modelling.</li>\n",
    "    </ul>\n",
    "</div>"
   ]
  },
  {
   "cell_type": "markdown",
   "metadata": {},
   "source": [
    "<div class=\"alert alert-block alert-info\" style=\"font-size: 20px; text-align: center;\">\n",
    "  <b>Modelling</b>\n",
    "</div>"
   ]
  },
  {
   "cell_type": "code",
   "execution_count": 20,
   "metadata": {},
   "outputs": [],
   "source": [
    "# Split the data into training and testing sets\n",
    "X_train, X_test, y_train, y_test = train_test_split(df['processed_tweets'], df['sentiment_category'], test_size=0.2, random_state=42)"
   ]
  },
  {
   "cell_type": "markdown",
   "metadata": {},
   "source": [
    "- Count Vectorization provides a way to represent text data in a format suitable for machine learning algorithms.\n",
    "- It converts a collection of text documents into a matrix of token counts, representing the frequency of each word (token) in the documents"
   ]
  },
  {
   "cell_type": "code",
   "execution_count": 21,
   "metadata": {},
   "outputs": [],
   "source": [
    "vectorizer = CountVectorizer()\n",
    "X_train_vec = vectorizer.fit_transform(X_train)\n",
    "X_test_vec = vectorizer.transform(X_test)"
   ]
  },
  {
   "cell_type": "code",
   "execution_count": 22,
   "metadata": {},
   "outputs": [
    {
     "name": "stdout",
     "output_type": "stream",
     "text": [
      "\n",
      "Classification Report for Multinomial Naive Bayes:\n",
      "               precision    recall  f1-score   support\n",
      "\n",
      "    negative       0.84      0.59      0.69       356\n",
      "     neutral       0.76      0.92      0.83       527\n",
      "    positive       0.79      0.78      0.78       517\n",
      "\n",
      "    accuracy                           0.78      1400\n",
      "   macro avg       0.80      0.76      0.77      1400\n",
      "weighted avg       0.79      0.78      0.78      1400\n",
      "\n",
      "\n",
      "Classification Report for Logistic Regression:\n",
      "               precision    recall  f1-score   support\n",
      "\n",
      "    negative       0.84      0.59      0.69       356\n",
      "     neutral       0.76      0.92      0.83       527\n",
      "    positive       0.79      0.78      0.78       517\n",
      "\n",
      "    accuracy                           0.78      1400\n",
      "   macro avg       0.80      0.76      0.77      1400\n",
      "weighted avg       0.79      0.78      0.78      1400\n",
      "\n",
      "\n",
      "Classification Report for Random Forest:\n",
      "               precision    recall  f1-score   support\n",
      "\n",
      "    negative       0.84      0.59      0.69       356\n",
      "     neutral       0.76      0.92      0.83       527\n",
      "    positive       0.79      0.78      0.78       517\n",
      "\n",
      "    accuracy                           0.78      1400\n",
      "   macro avg       0.80      0.76      0.77      1400\n",
      "weighted avg       0.79      0.78      0.78      1400\n",
      "\n",
      "\n",
      "Classification Report for Support Vector Machine:\n",
      "               precision    recall  f1-score   support\n",
      "\n",
      "    negative       0.84      0.59      0.69       356\n",
      "     neutral       0.76      0.92      0.83       527\n",
      "    positive       0.79      0.78      0.78       517\n",
      "\n",
      "    accuracy                           0.78      1400\n",
      "   macro avg       0.80      0.76      0.77      1400\n",
      "weighted avg       0.79      0.78      0.78      1400\n",
      "\n",
      "\n",
      "For Multinomial Naive Bayes:\n",
      " {'Accuracy': 0.6707142857142857}\n",
      "\n",
      "For Logistic Regression:\n",
      " {'Accuracy': 0.8628571428571429}\n",
      "\n",
      "For Random Forest:\n",
      " {'Accuracy': 0.8607142857142858}\n",
      "\n",
      "For Support Vector Machine:\n",
      " {'Accuracy': 0.7842857142857143}\n"
     ]
    }
   ],
   "source": [
    "\n",
    "\n",
    "# Defining a dictionary of classifier models\n",
    "classifier_models = {\n",
    "    'Multinomial Naive Bayes': MultinomialNB(),\n",
    "    'Logistic Regression': LogisticRegression(max_iter=1000),\n",
    "    'Random Forest': RandomForestClassifier(),\n",
    "    'Support Vector Machine': SVC()\n",
    "}\n",
    "\n",
    "# Train and evaluate each model\n",
    "metrics_dict = {}\n",
    "\n",
    "for model_name, model in classifier_models.items():\n",
    "    # Train the model\n",
    "    model.fit(X_train_vec, y_train)\n",
    "    \n",
    "    # Make predictions on the test set\n",
    "    y_pred = model.predict(X_test_vec)\n",
    "    \n",
    "    # Calculate metrics\n",
    "    accuracy = accuracy_score(y_test, y_pred)\n",
    "    metrics_dict[model_name] = {'Accuracy': accuracy}\n",
    "\n",
    "# Display the classification reports for all models \n",
    "for model_name, metrics in metrics_dict.items():\n",
    "    print(f\"\\nClassification Report for {model_name}:\\n\", classification_report(y_test, y_pred))\n",
    "\n",
    "# Display the metrics for all models \n",
    "for model_name, metrics in metrics_dict.items():\n",
    "    print(f\"\\nFor {model_name}:\\n\", metrics)\n"
   ]
  },
  {
   "cell_type": "code",
   "execution_count": 23,
   "metadata": {},
   "outputs": [
    {
     "name": "stdout",
     "output_type": "stream",
     "text": [
      "Accuracy: 0.91\n",
      "Classification Report:\n",
      "               precision    recall  f1-score   support\n",
      "\n",
      "    negative       0.94      0.83      0.88       356\n",
      "     neutral       0.89      0.99      0.93       527\n",
      "    positive       0.93      0.90      0.92       517\n",
      "\n",
      "    accuracy                           0.91      1400\n",
      "   macro avg       0.92      0.90      0.91      1400\n",
      "weighted avg       0.92      0.91      0.91      1400\n",
      "\n"
     ]
    }
   ],
   "source": [
    "# Encoding the categorical labels\n",
    "label_encoder = LabelEncoder()\n",
    "y_encoded = label_encoder.fit_transform(df['sentiment_category'])\n",
    "\n",
    "# Split the data into training and testing sets\n",
    "X_train, X_test, y_train, y_test = train_test_split(df['processed_tweets'], y_encoded, test_size=0.2, random_state=42)\n",
    "\n",
    "# Vectorize the text data using CountVectorizer\n",
    "vectorizer = CountVectorizer()\n",
    "X_train_vec = vectorizer.fit_transform(X_train)\n",
    "X_test_vec = vectorizer.transform(X_test)\n",
    "\n",
    "# Use scikit-learn wrapper for XGBoost\n",
    "xgb_classifier = xgb.XGBClassifier(objective='multi:softmax', num_class=len(set(y_encoded)))\n",
    "\n",
    "# Train the classifier\n",
    "xgb_classifier.fit(X_train_vec, y_train)\n",
    "\n",
    "# Make predictions on the test set\n",
    "y_pred = xgb_classifier.predict(X_test_vec)\n",
    "\n",
    "# Decode numeric predictions back to original labels\n",
    "y_pred_original = label_encoder.inverse_transform(y_pred)\n",
    "\n",
    "# Evaluate the performance\n",
    "accuracy = accuracy_score(y_test, y_pred)\n",
    "print(f\"Accuracy: {accuracy:.2f}\")\n",
    "\n",
    "# Display classification report with original labels\n",
    "print(\"Classification Report:\\n\", classification_report(y_test, y_pred, target_names=label_encoder.classes_))"
   ]
  },
  {
   "cell_type": "code",
   "execution_count": 24,
   "metadata": {},
   "outputs": [
    {
     "data": {
      "text/plain": [
       "0.9142857142857143"
      ]
     },
     "execution_count": 24,
     "metadata": {},
     "output_type": "execute_result"
    }
   ],
   "source": [
    "accuracy = accuracy_score(y_test, y_pred)\n",
    "accuracy"
   ]
  },
  {
   "cell_type": "code",
   "execution_count": 25,
   "metadata": {},
   "outputs": [
    {
     "data": {
      "image/png": "[encoded data removed]",
      "text/plain": [
       "<Figure size 800x600 with 2 Axes>"
      ]
     },
     "metadata": {},
     "output_type": "display_data"
    }
   ],
   "source": [
    "# Compute confusion matrix\n",
    "cm = confusion_matrix(y_test, y_pred)\n",
    "\n",
    "# Decode labels for display\n",
    "class_labels = label_encoder.classes_\n",
    "\n",
    "# Plot confusion matrix\n",
    "plt.figure(figsize=(8, 6))\n",
    "sns.heatmap(cm, annot=True, fmt='d', cmap='Blues', xticklabels=class_labels, yticklabels=class_labels)\n",
    "plt.title('Confusion Matrix')\n",
    "plt.xlabel('Predicted Labels')\n",
    "plt.ylabel('True Labels')\n",
    "plt.show()"
   ]
  },
  {
   "cell_type": "markdown",
   "metadata": {},
   "source": [
    "<div class=\"alert alert-block alert-info\" style=\"font-size: 20px; text-align: center;\">\n",
    "  <b>Conclusion</b>\n",
    "</div>"
   ]
  },
  {
   "cell_type": "markdown",
   "metadata": {},
   "source": [
    "<div class=\"alert alert-block alert-success\">\n",
    "    <ul>\n",
    "        <li>Among all models, XGBoost is giving the best accuracy of 91%</li>\n",
    "        <li>For improvement in model performance, we can apply some more text preprocessing techniques, other than the basic ones we applied</li>\n",
    "      \n",
    "        <li>We can experiment with different ways of representing text data using different vectorization techniques such as TF-IDF, word embeddings (Word2Vec, GloVe), or even more advanced methods like BERT embeddings</li>\n",
    "        <li>We can conduct hyperparameter tuning to find the optimal combination of parameters for the model. This may involve adjusting learning rates, dropout rates, batch sizes, and other hyperparameters</li>\n",
    "    </ul>\n",
    "</div>\n"
   ]
  }
 ],
 "metadata": {
  "kaggle": {
   "accelerator": "none",
   "dataSources": [
    {
     "datasetId": 134715,
     "sourceId": 320111,
     "sourceType": "datasetVersion"
    }
   ],
   "dockerImageVersionId": 30152,
   "isGpuEnabled": false,
   "isInternetEnabled": false,
   "language": "python",
   "sourceType": "notebook"
  },
  "kernelspec": {
   "display_name": "Python 3 (ipykernel)",
   "language": "python",
   "name": "python3"
  },
  "language_info": {
   "codemirror_mode": {
    "name": "ipython",
    "version": 3
   },
   "file_extension": ".py",
   "mimetype": "text/x-python",
   "name": "python",
   "nbconvert_exporter": "python",
   "pygments_lexer": "ipython3",
   "version": "3.9.13"
  }
 },
 "nbformat": 4,
 "nbformat_minor": 4
}
